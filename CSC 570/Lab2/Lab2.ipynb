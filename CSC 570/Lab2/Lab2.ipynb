{
  "cells": [
    {
      "cell_type": "markdown",
      "metadata": {
        "id": "ml3Vz9rjchXS"
      },
      "source": []
    },
    {
      "cell_type": "markdown",
      "metadata": {
        "id": "6Z0AGRgSZ-wz"
      },
      "source": [
        "# EXPLOTARY DATA ANALYSIS ON IRIS DATASET"
      ]
    },
    {
      "cell_type": "markdown",
      "metadata": {
        "id": "gqGUvP3wcqt7"
      },
      "source": [
        "# Lab 2 (50 points)# \n",
        "The purpose of this exercise is to analyse a simple dataset. By the end of this exercise, students will be able to learn the basic tools and techniques for plotting, examining the data, and inferencing. \n",
        "\n",
        "Collaboration: Students are allowed to consult their classmates and work in teams to complete the lab. \n",
        "\n",
        "Submission: Students do not need to submit the lab. As soon as you are done, you can demonstrate the lab to me in the lab class "
      ]
    },
    {
      "cell_type": "markdown",
      "metadata": {
        "id": "6ixn7yRAaxAJ"
      },
      "source": [
        "\n",
        "\n",
        "The iris flower dataset contains length of varies parameters of three types of flowers namely setosa, versicolor, and virginia. The dataset contains 3 classes of 50 instances each, where each class is a type of flower.\n",
        "\n",
        "\n",
        "\n",
        "#### Attributes :-\n",
        "\n",
        "1. Sepal length in cm \n",
        "2. Sepal width in cm \n",
        "3. Petal length in cm \n",
        "4. Petal width in cm \n",
        "5. class: \n",
        "-- Iris Setosa \n",
        "-- Iris Versicolour \n",
        "-- Iris Virginica\n",
        "\n",
        "\n",
        "### OBJECTIVE\n",
        "\n",
        "#### Apply explotary data analysis on IRIS dataset to find out which attribute is useful to classify the differences in flower.  \n",
        "#Some helper codes are provided. Complete the assignment and demo it to your instructor\n"
      ]
    },
    {
      "cell_type": "code",
      "execution_count": null,
      "metadata": {
        "id": "26vB9R9hg5Ks"
      },
      "outputs": [],
      "source": []
    },
    {
      "cell_type": "code",
      "execution_count": null,
      "metadata": {
        "id": "u1CPX1i0axAO"
      },
      "outputs": [],
      "source": [
        "import pandas as pd\n",
        "import seaborn as sns \n",
        "import matplotlib.pyplot as plt\n",
        "import numpy as np\n",
        "import csv\n",
        "iris_df = pd.read_csv('https://raw.githubusercontent.com/sumonacalpoly/Datasets/main/Iris.csv') #Loading iris dataset into panda data frame"
      ]
    },
    {
      "cell_type": "code",
      "execution_count": null,
      "metadata": {
        "id": "3e41dgCiaxAP"
      },
      "outputs": [],
      "source": [
        "iris_df #viewing the dataset"
      ]
    },
    {
      "cell_type": "markdown",
<<<<<<< HEAD
=======
      "source": [
        "**Display the no of columns and rows**"
      ],
>>>>>>> f2079eac0121f2addcf7edcfe583e75b38ccb2a2
      "metadata": {
        "id": "CQ_NPAoTfen0"
      },
      "source": [
        "**Display the number of columns and rows**"
      ]
    },
    {
      "cell_type": "code",
      "execution_count": null,
      "metadata": {
        "id": "opXo12J-axAQ"
      },
      "outputs": [],
      "source": []
    },
    {
      "cell_type": "markdown",
      "metadata": {
        "id": "H-R6wfwAnSAo"
      },
      "source": [
        "# Understanding the data"
      ]
    },
    {
      "cell_type": "code",
      "execution_count": null,
      "metadata": {
        "id": "H-BT25MsnaTw"
      },
      "outputs": [],
      "source": [
        "iris_df.dtypes"
      ]
    },
    {
      "cell_type": "code",
      "execution_count": null,
      "metadata": {
        "id": "e5cvpIennfmP"
      },
      "outputs": [],
      "source": [
        "iris_df[\"Species\"].unique()"
      ]
    },
    {
      "cell_type": "markdown",
      "metadata": {
        "id": "AKLBdRdFuQEc"
      },
      "source": [
        "**Show the column values and type**"
      ]
    },
    {
      "cell_type": "code",
      "execution_count": null,
      "metadata": {
        "id": "_5YpQkwoulEk"
      },
      "outputs": [],
      "source": []
    },
    {
      "cell_type": "markdown",
      "metadata": {
        "id": "q90HUM8qudGk"
      },
      "source": [
        "**Show the column headings**"
      ]
    },
    {
      "cell_type": "code",
      "execution_count": null,
      "metadata": {
        "id": "sxgB_rz_lOL_"
      },
      "outputs": [],
      "source": []
    },
    {
      "cell_type": "markdown",
      "metadata": {
        "id": "PDoryLrLumNm"
      },
      "source": [
        "**Show number of samples in each class**"
      ]
    },
    {
      "cell_type": "code",
      "execution_count": null,
      "metadata": {
        "id": "Txq0XdUofs3C"
      },
      "outputs": [],
      "source": []
    },
    {
      "cell_type": "markdown",
      "metadata": {
        "id": "MTpjw5WfaxAT"
      },
      "source": [
        "### Dataset description\n",
        "#### Here, all the three classes have equal number of data points."
      ]
    },
    {
      "cell_type": "markdown",
      "metadata": {
        "id": "12P0Xv8gfvow"
      },
      "source": []
    },
    {
      "cell_type": "code",
      "execution_count": null,
      "metadata": {
        "id": "fJdAH6l_ldGo"
      },
      "outputs": [],
      "source": [
        "iris_df.describe() #describing the whole class"
      ]
    },
    {
      "cell_type": "markdown",
      "metadata": {
        "id": "3XpkPP2-f1gD"
      },
      "source": [
        "**Describe the setosa class**"
      ]
    },
    {
      "cell_type": "code",
      "execution_count": null,
      "metadata": {
        "id": "1T30wrZaf912"
      },
      "outputs": [],
      "source": []
    },
    {
      "cell_type": "markdown",
      "metadata": {
        "id": "XSKhMBaEf-1s"
      },
      "source": [
        "**Describe the versicolor class**"
      ]
    },
    {
      "cell_type": "markdown",
      "metadata": {
        "id": "GNVPXaAlgEWl"
      },
      "source": [
        "**Describe the verginica class**"
      ]
    },
    {
      "cell_type": "markdown",
      "metadata": {
        "id": "BiOW8jSrmuDe"
      },
      "source": []
    },
    {
      "cell_type": "markdown",
      "metadata": {
        "id": "ehmsPTpYaxAW"
      },
      "source": [
        "## 2-D Scatter Plot\n",
        "##### The main idea is to plot a 2d scatter plot by taking 2 features at a time then after that identifying that if we could be able to diffentiate the three classes of flower in the dataset\n"
      ]
    },
    {
      "cell_type": "code",
      "execution_count": null,
      "metadata": {
        "id": "ZPOjAFJnmzjf"
      },
      "outputs": [],
      "source": []
    },
    {
      "cell_type": "markdown",
      "metadata": {
        "id": "YFizyXoBxFsz"
      },
      "source": [
        "**Show the color coded scatter plot for the attributes: sepal_length and sepal_width**\n",
        "\n",
        "**How did you color code the samples? Write your reply**"
      ]
    },
    {
      "cell_type": "markdown",
      "metadata": {
        "id": "dm3rBKMSm7on"
      },
      "source": [
        "# Data Visualization"
      ]
    },
    {
      "cell_type": "code",
      "execution_count": null,
      "metadata": {
        "id": "9D-I36HGm_vw"
      },
      "outputs": [],
      "source": []
    },
    {
      "cell_type": "markdown",
      "metadata": {
        "id": "D54R9PwGxknT"
      },
      "source": [
        "**Answer the following**\n",
        "\n",
        "1) Do you see any attribute of the data samples overapping with each other? If yes, which category/class do they belong?\n",
        "\n",
        "2) What is the problem if the data samples are overlapping? \n"
      ]
    },
    {
      "cell_type": "code",
      "execution_count": null,
      "metadata": {
        "id": "Gzss7jcBaxAW"
      },
      "outputs": [],
      "source": [
        "sns.set_style(\"whitegrid\");\n",
        "sns.FacetGrid(iris_df, hue=\"Species\", size=4) \\\n",
        "   .map(plt.scatter, \"SepalLengthCm\", \"SepalWidthCm\") \\\n",
        "   .add_legend();\n",
        "plt.show();"
      ]
    },
    {
      "cell_type": "markdown",
      "metadata": {
        "id": "9LRurdEcyZob"
      },
      "source": [
        "Your Answer:"
      ]
    },
    {
      "cell_type": "code",
      "execution_count": null,
      "metadata": {
        "id": "J3vRd28koYCL"
      },
      "outputs": [],
      "source": []
    },
    {
      "cell_type": "markdown",
      "metadata": {
        "id": "NvH0ez2ittGx"
      },
      "source": [
        "## 1-D scatter plot\n",
        "##### In this plot we are just plotting point by taking x ccordinate or y ccordinate of a feature and making the other coordinate zero\n",
        "##### 1-D scatter plot of petal length"
      ]
    },
    {
      "cell_type": "code",
      "execution_count": null,
      "metadata": {
        "id": "QQwAkbBgvRCR"
      },
      "outputs": [],
      "source": [
        "import numpy as np\n",
        "iris_setosa = iris.loc[iris[\"Species\"] == \"Iris-setosa\"]\n",
        "iris_versicolor = iris.loc[iris[\"Species\"] == \"Iris-versicolor\"]\n",
        "iris_virginica = iris.loc[iris[\"Species\"] == \"Iris-virginica\"]\n",
        "\n",
        "plt.plot(iris_setosa[\"SepalLengthCm\"], np.zeros_like(iris_setosa['SepalLengthCm']), 'o')\n",
        "plt.plot(iris_versicolor[\"SepalLengthCm\"], np.zeros_like(iris_versicolor['SepalLengthCm']), 'o')\n",
        "plt.plot(iris_virginica[\"SepalLengthCm\"], np.zeros_like(iris_virginica['SepalLengthCm']), 'o')\n",
        "plt.legend(['Setosa', 'Versicolor', 'Virginica'])\n",
        "plt.xlabel('SepalLengthCm')\n",
        "plt.title('1D plot')\n",
        "\n",
        "plt.show()"
      ]
    },
    {
      "cell_type": "markdown",
      "metadata": {
        "id": "7NHDrIhExaeA"
      },
      "source": [
        "**State your observation from the 1D scatter plot**"
      ]
    },
    {
      "cell_type": "code",
      "execution_count": null,
      "metadata": {
        "id": "wqIjIx4exfIA"
      },
      "outputs": [],
      "source": [
        "#### Now Performing Histogram plot on the dataset taking a feature at a time\n",
        "#### And then deciding which plot is more useful to classify it\n",
        "import warnings\n",
        "warnings.filterwarnings(\"ignore\")\n",
        "sns.FacetGrid(iris, hue=\"Species\", size=5) \\\n",
        "   .map(sns.distplot, \"PetalLengthCm\") \\\n",
        "   .add_legend();\n",
        "plt.show();\n",
        "    \n",
        "    "
      ]
    },
    {
      "cell_type": "markdown",
      "metadata": {
        "id": "R8wpy5sd3Uyh"
      },
      "source": [
        "**Plot the histogram for the remaining attributes.**"
      ]
    },
    {
      "cell_type": "code",
      "execution_count": null,
      "metadata": {
        "id": "xzUBwop8xqRf"
      },
      "outputs": [],
      "source": []
    },
    {
      "cell_type": "markdown",
      "metadata": {
        "id": "ZOhyQuDW3tk3"
      },
      "source": [
        "**Answer the following based on your observation**\n",
        "\n",
        "1) Can you use sepal_length and sepal_Width atributes to build a model? State your reason as well \n",
        "\n",
        "2) Which attribute(s) are more helpful in building a model for categorizing the data samples into their respective categories?   \n",
        "\n",
        "\n",
        "Your answer: \n"
      ]
    }
<<<<<<< HEAD
  ],
  "metadata": {
    "colab": {
      "collapsed_sections": [],
      "provenance": []
    },
    "kernelspec": {
      "display_name": "Python 3",
      "name": "python3"
    },
    "language_info": {
      "name": "python"
    }
  },
  "nbformat": 4,
  "nbformat_minor": 0
=======
  ]
>>>>>>> f2079eac0121f2addcf7edcfe583e75b38ccb2a2
}
