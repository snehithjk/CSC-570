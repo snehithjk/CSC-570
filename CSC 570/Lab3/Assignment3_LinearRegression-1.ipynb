{
  "nbformat": 4,
  "nbformat_minor": 0,
  "metadata": {
    "colab": {
      "provenance": [],
      "collapsed_sections": []
    },
    "kernelspec": {
      "name": "python3",
      "display_name": "Python 3"
    },
    "language_info": {
      "name": "python"
    }
  },
  "cells": [
    {
      "cell_type": "markdown",
      "source": [
        "#Assignment 3: Due date Wednesday, 12 Oct, Full Credit: 20 points#\n",
        "##Individually Graded. Collaboration is encouraged but do not copy the code ##"
      ],
      "metadata": {
        "id": "eYHwiGdzSCQh"
      }
    },
    {
      "cell_type": "markdown",
      "source": [
        "# The purpose of this exercise is to implement the linear regression technique to two toy datasets and infer the performance of both the models.#"
      ],
      "metadata": {
        "id": "ichHhHgXMUIr"
      }
    },
    {
      "cell_type": "markdown",
      "source": [
        "**Task: Fit the following toy data to a linear regression model with $\\mathrm{R}^1  + $ a bias parameter. You MUST write your own LinearRegression method. To solve the optimization, you could use linalg.lstsq(x, y) (refer https://docs.scipy.org/doc/scipy/reference/generated/scipy.linalg.lstsq.html for more details)**"
      ],
      "metadata": {
        "id": "Fzu-q1VmVXi7"
      }
    },
    {
      "cell_type": "code",
      "source": [
        "from sklearn.model_selection import train_test_split\n",
        "N = 100\n",
        "X = np.random.rand(N) * 10              #generate N random numbers from 0-20\n",
        "y =  4 + 4*X + 1*np.random.randn(N)     #generate y using a linear model and add some noise\n",
        "print(X.shape, y.shape ) \n"
      ],
      "metadata": {
        "colab": {
          "base_uri": "https://localhost:8080/"
        },
        "id": "UYYnr1F7xZXs",
        "outputId": "f8bb9788-f803-4514-85d4-b1bcf370f9fd"
      },
      "execution_count": null,
      "outputs": [
        {
          "output_type": "stream",
          "name": "stdout",
          "text": [
            "(100,) (100,)\n",
            "(80,) (20,) (80,) (20,)\n"
          ]
        }
      ]
    },
    {
      "cell_type": "code",
      "source": [],
      "metadata": {
        "id": "hAaBBgBUEZqf"
      },
      "execution_count": null,
      "outputs": []
    },
    {
      "cell_type": "markdown",
      "source": [
        "**Task: Implement the cost function: mean(w[0] + w[1]*x - y)**2)** where w[0] and w[1] are the weights returned by your trained model. **"
      ],
      "metadata": {
        "id": "H1cP50AlzUm8"
      }
    },
    {
      "cell_type": "code",
      "source": [],
      "metadata": {
        "id": "v72Ez6px0A4H"
      },
      "execution_count": null,
      "outputs": []
    },
    {
      "cell_type": "code",
      "source": [],
      "metadata": {
        "id": "3q71wiYjWnad"
      },
      "execution_count": null,
      "outputs": []
    },
    {
      "cell_type": "markdown",
      "source": [
        "**Task: Display the graph of the loss function using the weights obtained from the model.**\n",
        "\n",
        "**Answer**"
      ],
      "metadata": {
        "id": "Kug1oFOVWn-k"
      }
    },
    {
      "cell_type": "code",
      "source": [],
      "metadata": {
        "id": "fnEtWNXG5blZ"
      },
      "execution_count": null,
      "outputs": []
    },
    {
      "cell_type": "markdown",
      "source": [
        "**Task: Plot the predicted line/model**"
      ],
      "metadata": {
        "id": "X0LbW9VDXDfE"
      }
    },
    {
      "cell_type": "markdown",
      "source": [
        "**Task: Consider another toy dataset below. Use your same coe for linear regression to Fit to this new dataset. State your observations?**\n",
        "\n",
        "**Answer**"
      ],
      "metadata": {
        "id": "x9DOhN5WENTs"
      }
    },
    {
      "cell_type": "code",
      "source": [
        "N = 100\n",
        "x = np.linspace(0,10, N)\n",
        "yt = np.sin(x) + np.cos(x**.5)                        \n",
        "y = yt + .5*np.random.randn(N)                      #generate y using a non linear model and add noise\n",
        "yh = model.fit(x,y).predict(x)\n",
        "plt.plot(x, y, '.')\n",
        "plt.plot(x, yt, 'b-', label='correct model')\n",
        "plt.plot(x, yh, 'g-', alpha=.5, label='linear fit')\n",
        "plt.xlabel('x')\n",
        "plt.ylabel(r'y')\n",
        "plt.legend()\n",
        "plt.show()\n"
      ],
      "metadata": {
        "id": "ZYcbvLXjEPN8"
      },
      "execution_count": null,
      "outputs": []
    }
  ]
}