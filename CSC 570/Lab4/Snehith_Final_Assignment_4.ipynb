{
 "cells": [
  {
   "cell_type": "markdown",
   "metadata": {
    "id": "-RXG-3oorHnD"
   },
   "source": [
    "#Assignment-4: Binary Classification with Logistic Regression and Gradient Descent using Iris Dataset #\n",
    "#Due date: Oct 26, 2022#\n",
    "#Full Credit: 50 points#\n",
    "\n",
    "##Learning Outcomes##\n",
    "In this assignment students will (1) learn the implementation of Logistic Regression (not as a black box) from scratch. \n",
    "\n",
    "(2) Students will analyze the performance evaluation of two binary classification models with all the features of iris dataset and with two features selected from the previous assignment based on their inference from the histogram of features.\n",
    "\n",
    "(3) Explore the best model's performance by varying the value of the learning parameter used in gradient descent.\n",
    "\n",
    "(4) Students will learn how to split the dataset and train and test for generalization performance on two separate sets of data.\n",
    "\n",
    "(5) Students will explore the effect of the learning rate parameter on performance.\n",
    "\n",
    "##Instructions## \n",
    "Some helper codes are provided.\n",
    "\n",
    "(a) Implement your own Logistic Regression with Gradient Descent. \n",
    "\n",
    "(b) Refer to the EDA assignment for Iris dataset. Based on the histograms of all features, you had decided which attributes could be used for modeling. Create two models (c) Using all the attributes and\n",
    "\n",
    "(d) Using the two attributes that you inferred from the histograms based on your previous assignment. \n",
    "\n",
    "(e) Then compare the performance of the two models using accuracy score and confusion matrices. You must display the accuracy score and confusion matrix for both the models. \n",
    "\n",
    "(f) With the best model identified, analyse the effect of varying lambda on the classification performance. For each of the values of these learning rates $\\lambda = 0.05, 0.5, 1, 1.5$, plot the accuracy score with respect to the learning rate. Observe the trend and report your result to the instructor.\n",
    "\n",
    "(g) Display the confusion matrices corresponding to each of the learning rate. \n",
    "\n",
    "(h) State your observation on the effect of the learning rate.\n",
    "\n",
    "(i) Suggest/ think how you can select the optimal or correct learning rate since this value influences the performance.\n",
    "\n",
    "Report your findings and observations to your instructor."
   ]
  },
  {
   "cell_type": "code",
   "execution_count": 44,
   "metadata": {
    "colab": {
     "base_uri": "https://localhost:8080/",
     "height": 298
    },
    "id": "tY0z8PT-S2TV",
    "outputId": "d4639f7b-543e-412f-d9e6-3cf9fbbba853"
   },
   "outputs": [
    {
     "data": {
      "text/plain": [
       "Text(0.5, 1.0, 'logistic function')"
      ]
     },
     "execution_count": 44,
     "metadata": {},
     "output_type": "execute_result"
    },
    {
     "data": {
      "image/png": "[encoded data removed]",
      "text/plain": [
       "<Figure size 640x480 with 1 Axes>"
      ]
     },
     "metadata": {},
     "output_type": "display_data"
    }
   ],
   "source": [
    "import numpy as np\n",
    "import matplotlib.pyplot as plt\n",
    "import math\n",
    "\n",
    "logistic = lambda z: 1./ (1 + np.exp(-z))       #logistic function\n",
    "z = np.linspace(-10,10,100)\n",
    "plt.plot(z, logistic(z))\n",
    "plt.title('logistic function')"
   ]
  },
  {
   "cell_type": "code",
   "execution_count": 45,
   "metadata": {
    "id": "77aVHlsnTGds"
   },
   "outputs": [],
   "source": [
    "def generateVector(vector): \n",
    "    X_vector = np.c_[np.ones((len(vector), 1)), vector]\n",
    "    return X_vector\n",
    "\n",
    "def weight_init(X):\n",
    "    weight = np.random.randn(len(X[0])+1, 1)\n",
    "    return weight\n",
    "\n",
    "def sigmoid_function(w_Sum):\n",
    "    return 1/(1 + math.e**(-w_Sum))\n",
    "\n",
    "def Logistic_Regression(X, y, learningRate, epochs):\n",
    "    cost_lst = []\n",
    "    m = len(X)\n",
    "    y = np.reshape(y, (len(y), 1))   \n",
    "    X_vector = generateVector(X)\n",
    "    weight = weight_init(X)\n",
    "    for i in range(epochs):\n",
    "        gradients = 2/m * X_vector.T.dot(sigmoid_function(X_vector.dot(weight)) - y)\n",
    "        weight = weight - learningRate * gradients\n",
    "        y_pred = sigmoid_function(X_vector.dot(weight))\n",
    "        cost_value = - np.sum(np.dot(y.T,np.log(y_pred) + np.dot((1-y).T, np.log(1-y_pred)))) / (len(y_pred))\n",
    "        cost_lst.append(cost_value)\n",
    "        print(\"Epoch: {e} -> Loss: {l}\".format(e=i, l=cost_value))\n",
    "    return weight         "
   ]
  },
  {
   "cell_type": "code",
   "execution_count": 46,
   "metadata": {
    "id": "TgjjUzRJR56V",
    "scrolled": true
   },
   "outputs": [],
   "source": [
    "import pandas as pd\n",
    "import seaborn as sns \n",
    "import matplotlib.pyplot as plt\n",
    "import numpy as np\n",
    "import csv\n",
    "from sklearn import datasets\n",
    "dataset = datasets.load_iris()\n",
    "\n",
    "X, y = dataset['data'][:,:2], dataset['target']\n",
    "X, y = X[y < 2], y[y< 2]                                # we only take the data of class 0 and 1"
   ]
  },
  {
   "cell_type": "markdown",
   "metadata": {
    "id": "7pkExzn927dl"
   },
   "source": [
    "** Here we split the dataset into Train and Test**"
   ]
  },
  {
   "cell_type": "code",
   "execution_count": 47,
   "metadata": {
    "id": "dGxwuDCw3Hzi"
   },
   "outputs": [],
   "source": [
    "from sklearn.model_selection import train_test_split\n",
    "X_train, X_test, y_train, y_test = train_test_split(X, y, test_size=0.25,\n",
    "                                                    stratify=y,\n",
    "                                                    random_state=123)"
   ]
  },
  {
   "cell_type": "code",
   "execution_count": 48,
   "metadata": {},
   "outputs": [],
   "source": [
    "def y_class(y_hat):\n",
    "    return [1 if i > 0.5 else 0 for i in y_hat]\n",
    "\n",
    "def accuracy(true_values, predictions):\n",
    "    return np.mean(true_values == predictions)\n"
   ]
  },
  {
   "cell_type": "markdown",
   "metadata": {
    "id": "fnZR2qSJ3i7d"
   },
   "source": [
    "**Task: Use the train dataset X_train and y_train to train your model. Then use the other test set X_test and y_test to predict your model performance. You will report all results based on the test dataset.**"
   ]
  },
  {
   "cell_type": "code",
   "execution_count": 53,
   "metadata": {
    "id": "iaLujRhK26xP"
   },
   "outputs": [
    {
     "name": "stdout",
     "output_type": "stream",
     "text": [
      "Epoch: 0 -> Loss: 267.141918205949\n",
      "Epoch: 1 -> Loss: 2.1543333997786616\n",
      "Epoch: 2 -> Loss: 281.2889205488975\n",
      "Epoch: 3 -> Loss: 1.7895828348561096\n",
      "Epoch: 4 -> Loss: 268.58270736335123\n",
      "Epoch: 5 -> Loss: 1.6868519502300547\n",
      "Epoch: 6 -> Loss: 264.72123442068244\n",
      "Epoch: 7 -> Loss: 1.5356464365312004\n",
      "Epoch: 8 -> Loss: 252.98054420829726\n",
      "Epoch: 9 -> Loss: 1.5319951961234055\n",
      "Epoch: 10 -> Loss: 246.6269277989694\n",
      "Epoch: 11 -> Loss: 1.4547817281369448\n",
      "Epoch: 12 -> Loss: 235.61547997605453\n",
      "Epoch: 13 -> Loss: 1.4883552790133834\n",
      "Epoch: 14 -> Loss: 227.66086011741237\n",
      "Epoch: 15 -> Loss: 1.4665013307593622\n",
      "Epoch: 16 -> Loss: 217.27660417208497\n",
      "Epoch: 17 -> Loss: 1.5085587387000785\n",
      "Epoch: 18 -> Loss: 208.2987995202393\n",
      "Epoch: 19 -> Loss: 1.5227656573749175\n",
      "Weights:  [[ 0.54751753]\n",
      " [ 1.82003639]\n",
      " [-5.08105825]]\n"
     ]
    }
   ],
   "source": [
    "weight = Logistic_Regression(X_train,y_train, 0.5, 20)\n",
    "print(\"Weights: \", weight)\n",
    "\n",
    "x_testVector = generateVector(X_test)\n",
    "y_hat = sigmoid_function(x_testVector.dot(weight))\n",
    "y_hat_class = y_class(y_hat)\n"
   ]
  },
  {
   "cell_type": "markdown",
   "metadata": {
    "id": "VLjWPeD8R5oh"
   },
   "source": []
  },
  {
   "cell_type": "code",
   "execution_count": 50,
   "metadata": {
    "id": "V2rPmsqUTz64"
   },
   "outputs": [
    {
     "name": "stdout",
     "output_type": "stream",
     "text": [
      "Accuracy is 1.0\n"
     ]
    },
    {
     "data": {
      "image/png": "[encoded data removed]",
      "text/plain": [
       "<Figure size 640x480 with 2 Axes>"
      ]
     },
     "metadata": {},
     "output_type": "display_data"
    }
   ],
   "source": [
    "# Build the conufsion matrix and get the accuracy/score\n",
    "from sklearn.metrics import confusion_matrix\n",
    "from sklearn.metrics import plot_confusion_matrix\n",
    "import seaborn as sns\n",
    "cm = confusion_matrix(y_test, y_hat_class)\n",
    "sns.heatmap(cm, annot=True)\n",
    "print(\"Accuracy is {a}\".format(a=accuracy(y_test, y_hat_class)))"
   ]
  },
  {
   "cell_type": "code",
   "execution_count": 54,
   "metadata": {},
   "outputs": [
    {
     "name": "stdout",
     "output_type": "stream",
     "text": [
      "Epoch: 0 -> Loss: 3.225865307660009\n",
      "Epoch: 1 -> Loss: 315.091108070356\n",
      "Epoch: 2 -> Loss: 1.1983498078671504\n",
      "Epoch: 3 -> Loss: 93.69568796562407\n",
      "Epoch: 4 -> Loss: 5.69400467438044\n",
      "Epoch: 5 -> Loss: 165.37383429473175\n",
      "Epoch: 6 -> Loss: 1.4290004099180154\n",
      "Epoch: 7 -> Loss: 186.03855928865917\n",
      "Epoch: 8 -> Loss: 0.09715619073344965\n",
      "Epoch: 9 -> Loss: 0.04540181123021852\n",
      "Epoch: 10 -> Loss: 0.047363545262921435\n",
      "Epoch: 11 -> Loss: 0.049096383350333145\n",
      "Epoch: 12 -> Loss: 0.050618092646637\n",
      "Epoch: 13 -> Loss: 0.05194690015946849\n",
      "Epoch: 14 -> Loss: 0.05310082906939159\n",
      "Epoch: 15 -> Loss: 0.054097252308928236\n",
      "Epoch: 16 -> Loss: 0.05495260203476838\n",
      "Epoch: 17 -> Loss: 0.05568219397919828\n",
      "Epoch: 18 -> Loss: 0.05630013681113708\n",
      "Epoch: 19 -> Loss: 0.05681930368693321\n"
     ]
    }
   ],
   "source": [
    "# Create a model with all the 4 features\n",
    "X_new, y_new = dataset['data'], dataset['target']\n",
    "X_new, y_new = X_new[y_new < 2], y_new[y_new < 2]\n",
    "\n",
    "\n",
    "X_new_train, X_new_test, y_new_train, y_new_test = train_test_split(X_new, y_new, test_size = 0.25,\n",
    "                                                    stratify = y_new,\n",
    "                                                    random_state = 123)\n",
    "\n",
    "new_weight = Logistic_Regression(X_new_train, y_new_train, 0.5, 20)\n",
    "X_new_test_vector = generateVector(X_new_test)\n",
    "y_new_hat = sigmoid_function(X_new_test_vector.dot(new_weight))\n",
    "y_new_hat_class = y_class(y_new_hat)\n"
   ]
  },
  {
   "cell_type": "code",
   "execution_count": 55,
   "metadata": {},
   "outputs": [
    {
     "name": "stdout",
     "output_type": "stream",
     "text": [
      "Accuracy is 1.0\n"
     ]
    },
    {
     "data": {
      "image/png": "[encoded data removed]",
      "text/plain": [
       "<Figure size 640x480 with 2 Axes>"
      ]
     },
     "metadata": {},
     "output_type": "display_data"
    }
   ],
   "source": [
    "cm_new = confusion_matrix(y_new_test, y_new_hat_class)\n",
    "sns.heatmap(cm_new, annot=True)\n",
    "print(\"Accuracy is {a}\".format(a=accuracy(y_new_test, y_new_hat_class)))"
   ]
  },
  {
   "cell_type": "markdown",
   "metadata": {},
   "source": [
    "2-feature model vs 4-feature model?\n",
    "\n",
    "1. Both of them performed really well, with 100% accuracy. This perfect score may be is because of the size of the test data is very small and the epoch count used (20).\n",
    "\n",
    "2. One important thing to notice here is the results are different from what we saw in Linear Regression for the same data. There we have concluded that the 4-feature model is not good enough, whereas here both perform equally good.\n",
    "\n",
    "3. Another thing to notice is that average loss for the model with 4 features is less than that with 2 features. More dimensions in the latent space is responsible for this.\n"
   ]
  },
  {
   "cell_type": "code",
   "execution_count": 90,
   "metadata": {},
   "outputs": [
    {
     "name": "stdout",
     "output_type": "stream",
     "text": [
      "<------- For rate: 0.05 ------->\n",
      "Epoch: 0 -> Loss: 8.662914268789793\n",
      "Epoch: 1 -> Loss: 7.065929806543737\n",
      "Epoch: 2 -> Loss: 5.469063580378198\n",
      "Epoch: 3 -> Loss: 3.873459169860805\n",
      "Epoch: 4 -> Loss: 2.2935100255200385\n",
      "Epoch: 5 -> Loss: 0.9257046633363084\n",
      "Epoch: 6 -> Loss: 0.77910086880138\n",
      "Epoch: 7 -> Loss: 1.1305704496726294\n",
      "Epoch: 8 -> Loss: 1.3766911960457737\n",
      "Epoch: 9 -> Loss: 1.5378466500569947\n",
      "Epoch: 10 -> Loss: 1.6386523695986874\n",
      "Epoch: 11 -> Loss: 1.6982820997314467\n",
      "Epoch: 12 -> Loss: 1.7305257216653827\n",
      "Epoch: 13 -> Loss: 1.7448612761212356\n",
      "Epoch: 14 -> Loss: 1.7476253210563943\n",
      "Epoch: 15 -> Loss: 1.7429852409143856\n",
      "Epoch: 16 -> Loss: 1.73365676915105\n",
      "Epoch: 17 -> Loss: 1.7214014243165119\n",
      "Epoch: 18 -> Loss: 1.7073595381544608\n",
      "Epoch: 19 -> Loss: 1.692268891196493\n",
      "Epoch: 20 -> Loss: 1.6766067458315712\n",
      "Epoch: 21 -> Loss: 1.6606816564652378\n",
      "Epoch: 22 -> Loss: 1.6446927241855518\n",
      "Epoch: 23 -> Loss: 1.628767863892453\n",
      "Epoch: 24 -> Loss: 1.612988566565842\n",
      "<------ end ------>\n",
      "<------- For rate: 0.5 ------->\n",
      "Epoch: 0 -> Loss: 275.10351589223\n",
      "Epoch: 1 -> Loss: 0.6168098527108796\n",
      "Epoch: 2 -> Loss: 168.23564015874737\n",
      "Epoch: 3 -> Loss: 2.266955422879551\n",
      "Epoch: 4 -> Loss: 230.08754839903762\n",
      "Epoch: 5 -> Loss: 0.04340977651546459\n",
      "Epoch: 6 -> Loss: 0.051119858583158234\n",
      "Epoch: 7 -> Loss: 0.06275893768439328\n",
      "Epoch: 8 -> Loss: 0.07259785750689254\n",
      "Epoch: 9 -> Loss: 0.08065342674862418\n",
      "Epoch: 10 -> Loss: 0.08711222732548385\n",
      "Epoch: 11 -> Loss: 0.09219817398182593\n",
      "Epoch: 12 -> Loss: 0.09613493786535826\n",
      "Epoch: 13 -> Loss: 0.09912890321408052\n",
      "Epoch: 14 -> Loss: 0.1013613493554992\n",
      "Epoch: 15 -> Loss: 0.10298611492290186\n",
      "Epoch: 16 -> Loss: 0.10413051667069585\n",
      "Epoch: 17 -> Loss: 0.10489798450850829\n",
      "Epoch: 18 -> Loss: 0.1053713932903128\n",
      "Epoch: 19 -> Loss: 0.10561647329284898\n",
      "Epoch: 20 -> Loss: 0.10568496649791119\n",
      "Epoch: 21 -> Loss: 0.10561738089268942\n",
      "Epoch: 22 -> Loss: 0.10544530496231383\n",
      "Epoch: 23 -> Loss: 0.10519330354696463\n",
      "Epoch: 24 -> Loss: 0.10488044336269173\n",
      "<------ end ------>\n",
      "<------- For rate: 1 ------->\n",
      "Epoch: 0 -> Loss: 20.51513322312924\n",
      "Epoch: 1 -> Loss: 272.2832737241676\n",
      "Epoch: 2 -> Loss: 11.855837018383724\n",
      "Epoch: 3 -> Loss: nan\n",
      "Epoch: 4 -> Loss: 3.198980874103323\n",
      "Epoch: 5 -> Loss: nan\n",
      "Epoch: 6 -> Loss: 0.0017349993112625124\n",
      "Epoch: 7 -> Loss: 0.0017535374506385622\n",
      "Epoch: 8 -> Loss: 0.001772032838659419\n",
      "Epoch: 9 -> Loss: 0.0017904768508147772\n",
      "Epoch: 10 -> Loss: 0.001808861599522229\n",
      "Epoch: 11 -> Loss: 0.001827179864433362\n",
      "Epoch: 12 -> Loss: 0.0018454250306405332\n",
      "Epoch: 13 -> Loss: 0.0018635910337510763\n",
      "Epoch: 14 -> Loss: 0.0018816723109625311\n",
      "Epoch: 15 -> Loss: 0.0018996637573785416\n",
      "Epoch: 16 -> Loss: 0.0019175606869251442\n",
      "Epoch: 17 -> Loss: 0.0019353587973068769\n",
      "Epoch: 18 -> Loss: 0.0019530541385230345\n",
      "Epoch: 19 -> Loss: 0.0019706430845249684\n",
      "Epoch: 20 -> Loss: 0.0019881223076523846\n",
      "Epoch: 21 -> Loss: 0.002005488755533791\n",
      "Epoch: 22 -> Loss: 0.0020227396301725122\n",
      "Epoch: 23 -> Loss: 0.0020398723689805894\n",
      "Epoch: 24 -> Loss: 0.0020568846275461606\n",
      "<------ end ------>\n",
      "<------- For rate: 1.5 ------->\n",
      "Epoch: 0 -> Loss: nan\n",
      "Epoch: 1 -> Loss: 26.744277162111548\n",
      "Epoch: 2 -> Loss: 16.580014611934082\n",
      "Epoch: 3 -> Loss: nan\n",
      "Epoch: 4 -> Loss: 3.6015529295796305\n",
      "Epoch: 5 -> Loss: nan\n",
      "Epoch: 6 -> Loss: 2.2020763521296286e-05\n",
      "Epoch: 7 -> Loss: 2.1982155661787802e-05\n",
      "Epoch: 8 -> Loss: 2.1943766968843114e-05\n",
      "Epoch: 9 -> Loss: 2.1905595817887687e-05\n",
      "Epoch: 10 -> Loss: 2.1867640601589653e-05\n",
      "Epoch: 11 -> Loss: 2.1829899727763047e-05\n",
      "Epoch: 12 -> Loss: 2.1792371619869e-05\n",
      "Epoch: 13 -> Loss: 2.1755054716708717e-05\n",
      "Epoch: 14 -> Loss: 2.1717947471716703e-05\n",
      "Epoch: 15 -> Loss: 2.168104835451007e-05\n",
      "Epoch: 16 -> Loss: 2.1644355848313708e-05\n",
      "Epoch: 17 -> Loss: 2.1607868450887818e-05\n",
      "Epoch: 18 -> Loss: 2.157158467539928e-05\n",
      "Epoch: 19 -> Loss: 2.153550304860913e-05\n",
      "Epoch: 20 -> Loss: 2.1499622110975682e-05\n",
      "Epoch: 21 -> Loss: 2.1463940418095804e-05\n",
      "Epoch: 22 -> Loss: 2.142845653775258e-05\n",
      "Epoch: 23 -> Loss: 2.1393169052844416e-05\n",
      "Epoch: 24 -> Loss: 2.1358076558240238e-05\n",
      "<------ end ------>\n"
     ]
    },
    {
     "name": "stderr",
     "output_type": "stream",
     "text": [
      "/tmp/ipykernel_410/1199618856.py:22: RuntimeWarning: divide by zero encountered in log\n",
      "  cost_value = - np.sum(np.dot(y.T,np.log(y_pred) + np.dot((1-y).T, np.log(1-y_pred)))) / (len(y_pred))\n",
      "/tmp/ipykernel_410/1199618856.py:22: RuntimeWarning: divide by zero encountered in log\n",
      "  cost_value = - np.sum(np.dot(y.T,np.log(y_pred) + np.dot((1-y).T, np.log(1-y_pred)))) / (len(y_pred))\n"
     ]
    }
   ],
   "source": [
    "# Comparing models by varying λ\n",
    "\n",
    "rates = [0.05,0.5,1,1.5]\n",
    "confusion_matrices = []\n",
    "accuracies = []\n",
    "\n",
    "for l_rate in rates:\n",
    "    print(\"<------- For rate: {l} ------->\".format(l=l_rate))\n",
    "    X, y = dataset['data'], dataset['target']\n",
    "    X, y = X[y < 2], y[y < 2]\n",
    "\n",
    "\n",
    "    X_train, X_test, y_train, y_test = train_test_split(X, y, test_size = 0.25,\n",
    "                                                        stratify = y,\n",
    "                                                        random_state = 123)\n",
    "\n",
    "    w = Logistic_Regression(X_train, y_train, l_rate, 25)\n",
    "    X_test_vec = generateVector(X_test)\n",
    "    y_hat = sigmoid_function(X_test_vec.dot(w))\n",
    "    y_hat_class = y_class(y_hat)\n",
    "\n",
    "   \n",
    "    confusion_matrices.append(confusion_matrix(y_test, y_hat_class))\n",
    "    accuracies.append(accuracy(y_test, y_hat_class))\n",
    "\n",
    "    print(\"<------ end ------>\")\n"
   ]
  },
  {
   "cell_type": "code",
   "execution_count": 91,
   "metadata": {},
   "outputs": [
    {
     "name": "stdout",
     "output_type": "stream",
     "text": [
      "Accuracy is 1.0\n"
     ]
    },
    {
     "data": {
      "image/png": "[encoded data removed]",
      "text/plain": [
       "<Figure size 640x480 with 2 Axes>"
      ]
     },
     "metadata": {},
     "output_type": "display_data"
    }
   ],
   "source": [
    "# λ = 0.05\n",
    "sns.heatmap(confusion_matrices[0], annot=True)\n",
    "print(\"Accuracy is {a}\".format(a=accuracies[0]))\n"
   ]
  },
  {
   "cell_type": "code",
   "execution_count": 93,
   "metadata": {},
   "outputs": [
    {
     "name": "stdout",
     "output_type": "stream",
     "text": [
      "Accuracy is 1.0\n"
     ]
    },
    {
     "data": {
      "image/png": "[encoded data removed]",
      "text/plain": [
       "<Figure size 640x480 with 2 Axes>"
      ]
     },
     "metadata": {},
     "output_type": "display_data"
    }
   ],
   "source": [
    "# λ = 0.5\n",
    "sns.heatmap(confusion_matrices[1], annot=True)\n",
    "print(\"Accuracy is {a}\".format(a=accuracies[1]))\n"
   ]
  },
  {
   "cell_type": "code",
   "execution_count": 88,
   "metadata": {},
   "outputs": [
    {
     "name": "stdout",
     "output_type": "stream",
     "text": [
      "Accuracy is 1.0\n"
     ]
    },
    {
     "data": {
      "image/png": "[encoded data removed]",
      "text/plain": [
       "<Figure size 640x480 with 2 Axes>"
      ]
     },
     "metadata": {},
     "output_type": "display_data"
    }
   ],
   "source": [
    "# λ = 1\n",
    "sns.heatmap(confusion_matrices[2], annot=True)\n",
    "print(\"Accuracy is {a}\".format(a=accuracies[2]))\n"
   ]
  },
  {
   "cell_type": "code",
   "execution_count": 89,
   "metadata": {},
   "outputs": [
    {
     "name": "stdout",
     "output_type": "stream",
     "text": [
      "Accuracy is 1.0\n"
     ]
    },
    {
     "data": {
      "image/png": "[encoded data removed]",
      "text/plain": [
       "<Figure size 640x480 with 2 Axes>"
      ]
     },
     "metadata": {},
     "output_type": "display_data"
    }
   ],
   "source": [
    "# λ = 1.5\n",
    "sns.heatmap(confusion_matrices[3], annot=True)\n",
    "print(\"Accuracy is {a}\".format(a=accuracies[3]))\n"
   ]
  },
  {
   "cell_type": "markdown",
   "metadata": {},
   "source": [
    "Effect of different learning rate?\n",
    "\n",
    "1. The average loss reduced as we increased the learning rate from 0.05 to 1, and then it again rose up as the rate moved from 1 to 1.5.\n",
    "2. Also, as I was playing with differnt values of epochs to train the model with these learning rates, I noticed accuracy score is different in each instance. So, I believe, setting the correct values for these hyper-parameters (epoch and learning_rate) is essential for better convergence and accuracy of the model.\n"
   ]
  }
 ],
 "metadata": {
  "colab": {
   "collapsed_sections": [],
   "provenance": []
  },
  "kernelspec": {
   "display_name": "Python 3.8.10 64-bit",
   "language": "python",
   "name": "python3"
  },
  "language_info": {
   "codemirror_mode": {
    "name": "ipython",
    "version": 3
   },
   "file_extension": ".py",
   "mimetype": "text/x-python",
   "name": "python",
   "nbconvert_exporter": "python",
   "pygments_lexer": "ipython3",
   "version": "3.8.10"
  },
  "vscode": {
   "interpreter": {
    "hash": "31f2aee4e71d21fbe5cf8b01ff0e069b9275f58929596ceb00d14d90e3e16cd6"
   }
  }
 },
 "nbformat": 4,
 "nbformat_minor": 1
}
