{
  "cells": [
    {
      "cell_type": "markdown",
      "metadata": {
        "id": "H6yRV7iATx65"
      },
      "source": [
        "##Assignment-5: Practice ML Workflow that involves the following steps: data pre-processing, model training using gradient descent/ascent, addressing an ML challenge of optimization/ selecting the threshold for classification, performance evaluation and re-training using the optimal threshold. You can either use your own Logistic Regression implementation or the one that is provided by Python's library.\n",
        "\n",
        "**Learning Outcome**: Students will learn the challenge of training, model selection and tuning of hyper-parameter (threshold) using Cross-Validation and Reciever Operating Curve (ROC) techniques. \n",
        "\n",
        "P.S: ROC and Cross-Validation topics will be covered in the subsequent lectures, so don't worry if you are unable to complete that part now.\n",
        "\n"
      ]
    },
    {
      "cell_type": "markdown",
      "metadata": {
        "id": "7tEs9L2ryqOU"
      },
      "source": [
        "# Implementing Logistics Regression in Python\n",
        "\n",
        "In logistic regression we perform binary classification of by learnig a function of the form $f_w(x) = \\sigma(x^\\top w)$. Here $x,w \\in \\mathbb{R}^D$, where $D$ is the number of features as before. $\\sigma(z) = \\frac{1}{1+e^{-z}}$ is the logistic function.  Let's plot this function below"
      ]
    },
    {
      "cell_type": "code",
      "execution_count": 4,
      "metadata": {
        "id": "qrDwwm541KBG"
      },
      "outputs": [
        {
          "data": {
            "text/plain": [
              "Text(0.5, 1.0, 'logistic function')"
            ]
          },
          "execution_count": 4,
          "metadata": {},
          "output_type": "execute_result"
        },
        {
          "data": {
            "image/png": "[encoded data removed]",
            "text/plain": [
              "<Figure size 640x480 with 1 Axes>"
            ]
          },
          "metadata": {},
          "output_type": "display_data"
        }
      ],
      "source": [
        "logistic = lambda z: 1./ (1 + np.exp(-z))       #logistic function\n",
        "z = np.linspace(-10,10,100)\n",
        "plt.plot(z, logistic(z))\n",
        "plt.title('logistic function')"
      ]
    },
    {
      "cell_type": "markdown",
      "metadata": {
        "id": "CvAh2HqBlRLE"
      },
      "source": [
        "## Cost function\n",
        "To fit our model $f_w$ to the data $\\mathcal{D} = \\{x^{(1)}, \\ldots, x^{(N)}\\}$, we maximize the **logarithm of the conditional likelihood**:\n",
        "\n",
        "$$\n",
        "\\ell(w; \\mathcal{D}) = \\sum_n \\log \\mathrm{Bernoulli}(y^{(n)} | \\sigma({x^{(n)}}^\\top w)) = \\sum_n y^{(n)} \\log \\sigma({x^{(n)}}^\\top w)) + (1-y^{(n)}) \\log (1-\\sigma({x^{(n)}}^\\top w)))\n",
        "$$\n",
        "\n",
        "by substituting the definition of logistic function in the equation above, and minimizing the **negative** of the log-likelihood, which is called the **cost function**,\n",
        "we get\n",
        "\n",
        "$$\n",
        "J(w) = \\sum_n y^{(n)} \\log(1+e^{-x w^\\top}) + (1-y^{(n)}) \\log(1+e^{x w^\\top})\n",
        "$$\n",
        "\n",
        "In practice we use mean rather than sum over data points."
      ]
    },
    {
      "cell_type": "markdown",
      "metadata": {
        "id": "1EoTm8GXlNwu"
      },
      "source": []
    },
    {
      "cell_type": "code",
      "execution_count": 5,
      "metadata": {
        "id": "3LMoXVCA1VsK"
      },
      "outputs": [],
      "source": [
        "def cost_fn(x, y, w):\n",
        "    N, D = x.shape                                                       \n",
        "    z = np.dot(x, w)\n",
        "    J = np.mean(y * np.log1p(np.exp(-z)) + (1-y) * np.log1p(np.exp(z)))  #log1p calculates log(1+x) to remove floating point inaccuracies \n",
        "    return J"
      ]
    },
    {
      "cell_type": "markdown",
      "metadata": {
        "id": "p7mL26V4lWQ0"
      },
      "source": [
        "## Minimizing the cost using gradient descent\n",
        "To minimize the cost we use gradient descent: start from some initial assignment to the parameters $w$, and at each iteration take a small step in the opposite direction of the *gradient*. The gradient of the cost function above is given by:\n",
        "\n",
        "$$\n",
        "\\frac{\\partial}{\\partial w_d} J(w) =\\sum_n - y^{(n)} x^{(n)}_d \\frac{e^{-w^\\top x^{(n)}}}{1 + e^{-w^\\top x^{(n)}}} +x^{(n)}_d (1- y^{(n)}) \\frac{e^{w^\\top x^{(n)}}}{1 + e^{w^\\top x^{(n)}}} = \\sum_n - x^{(n)}_d y^{(n)} (1-\\hat{y}^{(n)})+ x^{(n)}_d (1- y^{(n)}) \\hat{y}^{(n)} = x^{(n)}_d (\\hat{y}^{(n)} - y^{(n)}) \n",
        "$$\n",
        "Since in practice we divide the cost by $N$, we have to the same for the gradient; see the implementation below."
      ]
    },
    {
      "cell_type": "markdown",
      "metadata": {
        "id": "PoSak1Ne1qyw"
      },
      "source": [
        "fit this linear model to toy data with $x \\in \\Re^1$ + a bias parameter. Display the data"
      ]
    },
    {
      "cell_type": "markdown",
      "metadata": {
        "id": "7ebn_C2Y13f0"
      },
      "source": [
        "## Weight vs Cost \n",
        "**TASK: Similar to what we did for linear regression, we plot *Cost* as a function of model parameters (weights), and show the correspondence between the different weights having different costs and their fit. Visualize the cost and the fit.**"
      ]
    },
    {
      "cell_type": "code",
      "execution_count": 2,
      "metadata": {
        "id": "gT6QgjEwyqOa"
      },
      "outputs": [],
      "source": [
        "#Initially loading few Libraries \n",
        "\n",
        "import os\n",
        "import pandas as pd\n",
        "import numpy as np\n",
        "import seaborn as sns\n",
        "from matplotlib import pyplot as plt\n",
        "%matplotlib inline"
      ]
    },
    {
      "cell_type": "code",
      "execution_count": 49,
      "metadata": {
        "id": "6yx6qhmTyqOe"
      },
      "outputs": [
        {
          "name": "stdout",
          "output_type": "stream",
          "text": [
            "(150, 2)\n",
            "(150,)\n"
          ]
        }
      ],
      "source": [
        "#Reading \n",
        "from sklearn import datasets\n",
        "LoanPrep = pd.read_csv(\"https://raw.githubusercontent.com/sumonacalpoly/Datasets/main/LoanApproval.csv\", index_col=False)"
      ]
    },
    {
      "cell_type": "code",
      "execution_count": 48,
      "metadata": {
        "id": "RkiaRg0XyqOf"
      },
      "outputs": [
        {
          "data": {
            "text/html": [
              "<div>\n",
              "<style scoped>\n",
              "    .dataframe tbody tr th:only-of-type {\n",
              "        vertical-align: middle;\n",
              "    }\n",
              "\n",
              "    .dataframe tbody tr th {\n",
              "        vertical-align: top;\n",
              "    }\n",
              "\n",
              "    .dataframe thead th {\n",
              "        text-align: right;\n",
              "    }\n",
              "</style>\n",
              "<table border=\"1\" class=\"dataframe\">\n",
              "  <thead>\n",
              "    <tr style=\"text-align: right;\">\n",
              "      <th></th>\n",
              "      <th>gender</th>\n",
              "      <th>married</th>\n",
              "      <th>ch</th>\n",
              "      <th>income</th>\n",
              "      <th>loanamt</th>\n",
              "      <th>status</th>\n",
              "    </tr>\n",
              "  </thead>\n",
              "  <tbody>\n",
              "    <tr>\n",
              "      <th>0</th>\n",
              "      <td>Male</td>\n",
              "      <td>No</td>\n",
              "      <td>1.0</td>\n",
              "      <td>5849</td>\n",
              "      <td>NaN</td>\n",
              "      <td>Y</td>\n",
              "    </tr>\n",
              "    <tr>\n",
              "      <th>1</th>\n",
              "      <td>Male</td>\n",
              "      <td>Yes</td>\n",
              "      <td>1.0</td>\n",
              "      <td>4583</td>\n",
              "      <td>128.0</td>\n",
              "      <td>N</td>\n",
              "    </tr>\n",
              "    <tr>\n",
              "      <th>2</th>\n",
              "      <td>Male</td>\n",
              "      <td>Yes</td>\n",
              "      <td>1.0</td>\n",
              "      <td>3000</td>\n",
              "      <td>66.0</td>\n",
              "      <td>Y</td>\n",
              "    </tr>\n",
              "    <tr>\n",
              "      <th>3</th>\n",
              "      <td>Male</td>\n",
              "      <td>Yes</td>\n",
              "      <td>1.0</td>\n",
              "      <td>2583</td>\n",
              "      <td>120.0</td>\n",
              "      <td>Y</td>\n",
              "    </tr>\n",
              "    <tr>\n",
              "      <th>4</th>\n",
              "      <td>Male</td>\n",
              "      <td>No</td>\n",
              "      <td>1.0</td>\n",
              "      <td>6000</td>\n",
              "      <td>141.0</td>\n",
              "      <td>Y</td>\n",
              "    </tr>\n",
              "    <tr>\n",
              "      <th>...</th>\n",
              "      <td>...</td>\n",
              "      <td>...</td>\n",
              "      <td>...</td>\n",
              "      <td>...</td>\n",
              "      <td>...</td>\n",
              "      <td>...</td>\n",
              "    </tr>\n",
              "    <tr>\n",
              "      <th>609</th>\n",
              "      <td>Female</td>\n",
              "      <td>No</td>\n",
              "      <td>1.0</td>\n",
              "      <td>2900</td>\n",
              "      <td>71.0</td>\n",
              "      <td>Y</td>\n",
              "    </tr>\n",
              "    <tr>\n",
              "      <th>610</th>\n",
              "      <td>Male</td>\n",
              "      <td>Yes</td>\n",
              "      <td>1.0</td>\n",
              "      <td>4106</td>\n",
              "      <td>40.0</td>\n",
              "      <td>Y</td>\n",
              "    </tr>\n",
              "    <tr>\n",
              "      <th>611</th>\n",
              "      <td>Male</td>\n",
              "      <td>Yes</td>\n",
              "      <td>1.0</td>\n",
              "      <td>8072</td>\n",
              "      <td>253.0</td>\n",
              "      <td>Y</td>\n",
              "    </tr>\n",
              "    <tr>\n",
              "      <th>612</th>\n",
              "      <td>Male</td>\n",
              "      <td>Yes</td>\n",
              "      <td>1.0</td>\n",
              "      <td>7583</td>\n",
              "      <td>187.0</td>\n",
              "      <td>Y</td>\n",
              "    </tr>\n",
              "    <tr>\n",
              "      <th>613</th>\n",
              "      <td>Female</td>\n",
              "      <td>No</td>\n",
              "      <td>0.0</td>\n",
              "      <td>4583</td>\n",
              "      <td>133.0</td>\n",
              "      <td>N</td>\n",
              "    </tr>\n",
              "  </tbody>\n",
              "</table>\n",
              "<p>614 rows × 6 columns</p>\n",
              "</div>"
            ],
            "text/plain": [
              "     gender married   ch  income  loanamt status\n",
              "0      Male      No  1.0    5849      NaN      Y\n",
              "1      Male     Yes  1.0    4583    128.0      N\n",
              "2      Male     Yes  1.0    3000     66.0      Y\n",
              "3      Male     Yes  1.0    2583    120.0      Y\n",
              "4      Male      No  1.0    6000    141.0      Y\n",
              "..      ...     ...  ...     ...      ...    ...\n",
              "609  Female      No  1.0    2900     71.0      Y\n",
              "610    Male     Yes  1.0    4106     40.0      Y\n",
              "611    Male     Yes  1.0    8072    253.0      Y\n",
              "612    Male     Yes  1.0    7583    187.0      Y\n",
              "613  Female      No  0.0    4583    133.0      N\n",
              "\n",
              "[614 rows x 6 columns]"
            ]
          },
          "execution_count": 48,
          "metadata": {},
          "output_type": "execute_result"
        }
      ],
      "source": [
        "LoanPrep\n",
        "\n"
      ]
    },
    {
      "cell_type": "markdown",
      "metadata": {
        "id": "kHry3P6kyqOg"
      },
      "source": [
        "# Data Cleaning and outlier treatment code goes here..........."
      ]
    },
    {
      "cell_type": "markdown",
      "metadata": {
        "id": "ICRqOmi5yqOh"
      },
      "source": [
        "# Data preparation steps"
      ]
    },
    {
      "cell_type": "code",
      "execution_count": 8,
      "metadata": {
        "id": "Z0T-o2kEyqOi"
      },
      "outputs": [],
      "source": [
        "#Loading machine learning library from sklearn\n",
        "from sklearn.model_selection import train_test_split"
      ]
    },
    {
      "cell_type": "code",
      "execution_count": 50,
      "metadata": {
        "id": "Zo1vNPBY5pbI"
      },
      "outputs": [],
      "source": [
        "# Find out columns with missing values\n",
        "LoanPrep.isnull().sum(axis=0)\n",
        "# Replace Missing Values. Drop the rows.\n",
        "LoanPrep = LoanPrep.dropna()\n",
        "\n",
        "# Drop irrelevant columns based on business sense\n",
        "LoanPrep = LoanPrep.drop(['gender'], axis=1)\n",
        "\n",
        "# Create Dummy variables\n",
        "LoanPrep.dtypes\n",
        "LoanPrep = pd.get_dummies(LoanPrep, drop_first=True)\n",
        "\n",
        "\n",
        "# Normalize the data (Income and Loan Amount) Using StandardScaler\n",
        "from sklearn.preprocessing import StandardScaler\n",
        "scalar_ = StandardScaler()\n",
        "\n",
        "LoanPrep['loanamt'] = scalar_.fit_transform(LoanPrep[['income']])\n",
        "LoanPrep['loanamt'] = scalar_.fit_transform(LoanPrep[['income']])\n",
        "\n",
        "# Do the same as above for 'loanamt'  \n",
        "\n"
      ]
    },
    {
      "cell_type": "code",
      "execution_count": 124,
      "metadata": {
        "id": "E7e5RXbByqOj",
        "outputId": "85375ce8-d9d6-4bc6-df44-217376549071"
      },
      "outputs": [
        {
          "name": "stdout",
          "output_type": "stream",
          "text": [
            "(529,)\n",
            "(529, 4)\n"
          ]
        }
      ],
      "source": [
        "#Separating train and test data\n",
        "Y = LoanPrep['status_Y']\n",
        "X = LoanPrep.drop(['status_Y'], axis=1)\n",
        "\n",
        "print(Y.shape)\n",
        "print(X.shape)\n",
        "x_train, x_test, y_train, y_test = train_test_split(X, Y, test_size= 0.2, random_state=1, stratify=Y)\n",
        "\n",
        "\n",
        "\n",
        "# Split the X and Y dataset into training 80% and testing set 20%\n",
        " \n",
        "\n",
        "\n"
      ]
    },
    {
      "cell_type": "markdown",
      "metadata": {
        "id": "DO_B3ZY5yqOl"
      },
      "source": [
        "# Training the classification model\n",
        "**Use LogisticRegression class to do the training. Display the confusion matrix for the test set and report the accuracy score on the test set**"
      ]
    },
    {
      "cell_type": "code",
      "execution_count": 139,
      "metadata": {
        "id": "yXw4dWCSyqOn",
        "outputId": "d1071ff9-117e-440b-82d8-52f94e40b34a"
      },
      "outputs": [
        {
          "name": "stdout",
          "output_type": "stream",
          "text": [
            "0.8490566037735849\n",
            "0.8490566037735849\n",
            "[[18 15]\n",
            " [ 1 72]]\n"
          ]
        }
      ],
      "source": [
        "# instantiate a logistic regression model, and fit with X and y\n",
        "# Build the Logistic Regression model\n",
        "from sklearn.linear_model import LogisticRegression\n",
        "logisticRegr = LogisticRegression()\n",
        "logisticRegr.fit(x_train, y_train)\n",
        "\n",
        "\n",
        "# Predict the outcome using Test data\n",
        " \n",
        "predictions = logisticRegr.predict(x_test)\n",
        "score = logisticRegr.score(x_test, y_test)\n",
        "print(np.mean(y_test == predictions))\n",
        "print(score)\n",
        "\n",
        "# Build the conufsion matrix and get the accuracy/score\n",
        "from sklearn.metrics import confusion_matrix\n",
        "cm = confusion_matrix(y_test, predictions)\n",
        "print(cm)\n"
      ]
    },
    {
      "cell_type": "code",
      "execution_count": null,
      "metadata": {
        "id": "32BCm9rb6ict"
      },
      "outputs": [],
      "source": []
    },
    {
      "cell_type": "markdown",
      "metadata": {
        "id": "ajcCEh5JfR9m"
      },
      "source": [
        "##ML Challenges: Model Selection and Hyper-Parameter Tuning##"
      ]
    },
    {
      "cell_type": "markdown",
      "metadata": {
        "id": "LzZIDbSIS_9a"
      },
      "source": [
        "**TASK: Use the ROC (Reciever Operating Curve) for finding the optimal threshold value for classification. To do so, use Cross-Validation technqiue on the training subset (80% of the entire dataset) for selecting this threshold.**\n",
        "\n",
        "-- Then, apply the optimal threshold on a separate dataset known as the test set (the remaining 20%) for reporting the generalization performance. Report the accuracy, and confusion matrix on this generalization set."
      ]
    },
    {
      "cell_type": "code",
      "execution_count": 110,
      "metadata": {
        "id": "3DCgRyj3yqOs"
      },
      "outputs": [
        {
          "name": "stdout",
          "output_type": "stream",
          "text": [
            "37\n",
            "[1.83604899 0.83604899 0.83374753 0.83224531 0.83207586 0.83126365\n",
            " 0.8309821  0.82995218 0.82971302 0.82940732 0.82914713 0.8287213\n",
            " 0.82866503 0.8235456  0.82293383 0.81022376 0.8039913  0.80180337\n",
            " 0.80133337 0.73237971 0.73228082 0.73063629 0.73051808 0.72919656\n",
            " 0.72815163 0.726799   0.72664632 0.71617977 0.7157303  0.7045756\n",
            " 0.15086851 0.14973945 0.14053191 0.10293233 0.08804049 0.08731316\n",
            " 0.07706216]\n"
          ]
        },
        {
          "data": {
            "image/png": "[encoded data removed]",
            "text/plain": [
              "<Figure size 640x480 with 1 Axes>"
            ]
          },
          "metadata": {},
          "output_type": "display_data"
        }
      ],
      "source": [
        "#define metrics\n",
        "from sklearn import metrics\n",
        "\n",
        "y_pred_proba = logisticRegr.predict_proba(x_test)[::,1]\n",
        "fpr, tpr, _ = metrics.roc_curve(y_test,  y_pred_proba)\n",
        "auc = metrics.roc_auc_score(y_test, y_pred_proba)\n",
        "\n",
        "#create ROC curve\n",
        "plt.plot(fpr,tpr,label=\"AUC=\"+str(auc))\n",
        "plt.ylabel('True Positive Rate')\n",
        "plt.xlabel('False Positive Rate')\n",
        "plt.legend(loc=4)\n",
        "plt.show()\n"
      ]
    },
    {
      "cell_type": "code",
      "execution_count": null,
      "metadata": {},
      "outputs": [],
      "source": []
    },
    {
      "cell_type": "code",
      "execution_count": null,
      "metadata": {},
      "outputs": [],
      "source": []
    },
    {
      "cell_type": "code",
      "execution_count": 140,
      "metadata": {},
      "outputs": [
        {
          "name": "stdout",
          "output_type": "stream",
          "text": [
            "Accu for Threshold :0.0 is 0.7105263157894737\n",
            "Accu for Threshold :0.0 is 0.7368421052631579\n",
            "Accu for Threshold :0.0 is 0.7894736842105263\n",
            "Accu for Threshold :0.30000000000000004 is 0.868421052631579\n",
            "Accu for Threshold :0.0 is 0.7105263157894737\n",
            "Accu for Threshold :0.0 is 0.7368421052631579\n",
            "Accu for Threshold :0.0 is 0.7894736842105263\n",
            "Accu for Threshold :0.30000000000000004 is 0.868421052631579\n",
            "Accu for Threshold :0.0 is 0.7105263157894737\n",
            "Accu for Threshold :0.0 is 0.7368421052631579\n",
            "Accu for Threshold :0.0 is 0.7894736842105263\n",
            "Accu for Threshold :0.30000000000000004 is 0.868421052631579\n",
            "Accu for Threshold :0.0 is 0.7435897435897436\n",
            "Accu for Threshold :0.0 is 0.7631578947368421\n",
            "Accu for Threshold :0.2 is 0.8157894736842105\n",
            "Accu for Threshold :0.30000000000000004 is 0.8947368421052632\n",
            "Accu for Threshold :0.0 is 0.7435897435897436\n",
            "Accu for Threshold :0.0 is 0.7631578947368421\n",
            "Accu for Threshold :0.2 is 0.8157894736842105\n",
            "Accu for Threshold :0.30000000000000004 is 0.8947368421052632\n",
            "Accu for Threshold :0.0 is 0.7435897435897436\n",
            "Accu for Threshold :0.0 is 0.7631578947368421\n",
            "Accu for Threshold :0.2 is 0.8157894736842105\n",
            "Accu for Threshold :0.30000000000000004 is 0.8947368421052632\n",
            "Accu for Threshold :0.0 is 0.7435897435897436\n",
            "Accu for Threshold :0.0 is 0.7631578947368421\n",
            "Accu for Threshold :0.2 is 0.8157894736842105\n",
            "Accu for Threshold :0.30000000000000004 is 0.8947368421052632\n",
            "Accu for Threshold :0.0 is 0.7435897435897436\n",
            "Accu for Threshold :0.0 is 0.7631578947368421\n",
            "Accu for Threshold :0.2 is 0.8157894736842105\n",
            "Accu for Threshold :0.30000000000000004 is 0.8947368421052632\n",
            "Accu for Threshold :0.0 is 0.7435897435897436\n",
            "Accu for Threshold :0.0 is 0.7631578947368421\n",
            "Accu for Threshold :0.2 is 0.8157894736842105\n",
            "Accu for Threshold :0.30000000000000004 is 0.8947368421052632\n",
            "Accu for Threshold :0.0 is 0.7435897435897436\n",
            "Accu for Threshold :0.0 is 0.7631578947368421\n",
            "Accu for Threshold :0.2 is 0.8157894736842105\n",
            "Accu for Threshold :0.30000000000000004 is 0.8947368421052632\n",
            "0.30000000000000004\n"
          ]
        }
      ],
      "source": [
        "import operator \n",
        "from sklearn.model_selection import KFold\n",
        "\n",
        "\n",
        "A_train, A_test, A_y_train, A_y_test = train_test_split(X, Y, test_size= 0.2, random_state=1, stratify=Y)\n",
        "\n",
        "# configure the cross-validation procedure\n",
        "cv_outer = KFold(n_splits=10, shuffle=True, random_state=1)\n",
        "# enumerate splits\n",
        "outer_results = list()\n",
        "inner_results = list()\n",
        "#kf = KFold(n_splits = 5)\n",
        "#X_train = X.loc[train_ix]\n",
        "\n",
        "def y_class(y_hat, threshold):\n",
        "    return [1 if i > threshold else 0 for i in y_hat]\n",
        "\n",
        "def accuracy(true_values, predictions):\n",
        "    return np.mean(true_values == predictions)\n",
        " \n",
        "import warnings\n",
        "warnings.filterwarnings(\"ignore\")\n",
        "best_model_params = []\n",
        "best_model_scores = []\n",
        "save_best_model = []\n",
        "li = [i for i in np.arange(0,1,0.1)]\n",
        "\n",
        "for train_ix, val_ix in cv_outer.split(A_train):\n",
        "\t# split data\n",
        "\tX_train_outer = A_train.iloc[train_ix]   \n",
        "\tX_val_outer = A_train.iloc[val_ix]\n",
        "\ty_train_outer = A_y_train.iloc[train_ix]\n",
        "\ty_val_outer = A_y_train.iloc[val_ix]\n",
        "\t# configure the cross-validation procedure\n",
        "\tcv_inner = KFold(n_splits=10, shuffle=True, random_state=1)\n",
        "\t# define the model\n",
        "\tmodel = LogisticRegression()\n",
        "\t# define search space\n",
        "\t\n",
        "\t# define search\n",
        "\tbest = 0.0\n",
        "\tbest_li = -1\n",
        "\tacs = []\n",
        "\tfor thre in li:\n",
        "\t\tfor inner_train_ix, inner_val_ix in cv_inner.split(X_train_outer):\n",
        "\t\n",
        "\t\t\tmodel = LogisticRegression()\n",
        "\t\t\th_X_train_outer = A_train.iloc[inner_train_ix]\n",
        "\t\t\th_X_val_outer = A_train.iloc[inner_val_ix]\n",
        "\n",
        "\t\t\th_y_train_outer = A_y_train.iloc[inner_train_ix]\n",
        "\t\t\th_y_val_outer = A_y_train.iloc[inner_val_ix]\n",
        "\n",
        "\n",
        "\t\t\tmodel.fit(h_X_train_outer, h_y_train_outer)\n",
        "\t\t\ty_pred_proba = model.predict_proba(h_X_val_outer)[::,1]\n",
        "\n",
        "\t\t\tpredictions = y_class(y_pred_proba, thre)\n",
        "\t\t\ta = (accuracy(predictions, h_y_val_outer))\n",
        "\t\t\tif a > best:\n",
        "\t\t\t\tbest = a\n",
        "\t\t\t\tbest_li = thre\n",
        "\t\t\t\tprint(\"Accu for Threshold :{t} is {A}\".format(t=thre, A=a))\n",
        "\n",
        "\t\t\t# score = model.score(h_X_val_outer, predictions)\n",
        "\t\t\t# print(score)\n",
        "\n",
        "print(best_li)\n",
        "\n",
        " "
      ]
    },
    {
      "cell_type": "code",
      "execution_count": 138,
      "metadata": {},
      "outputs": [
        {
          "name": "stdout",
          "output_type": "stream",
          "text": [
            "0.8490566037735849\n",
            "[[18 15]\n",
            " [ 1 72]]\n"
          ]
        }
      ],
      "source": [
        "logisticRegr = LogisticRegression()\n",
        "logisticRegr.fit(A_train, A_y_train)\n",
        "\n",
        "y_pred_proba = logisticRegr.predict_proba(A_test)\n",
        "y_pred_proba = y_pred_proba[::,1]\n",
        "\n",
        "predictions = y_class(y_pred_proba, best_li)\n",
        "a = (accuracy(predictions, A_y_test))\n",
        "\n",
        "\n",
        "print(a)\n",
        "\n",
        "# Build the conufsion matrix and get the accuracy/score\n",
        "from sklearn.metrics import confusion_matrix\n",
        "cm = confusion_matrix(A_y_test, predictions)\n",
        "print(cm)\n",
        "\n"
      ]
    },
    {
      "cell_type": "code",
      "execution_count": null,
      "metadata": {},
      "outputs": [],
      "source": [
        "import operator \n",
        "from sklearn.model_selection import KFold\n",
        "\n",
        "X = [1, 2, 3, 4]\n",
        "Y = [1, 0, 1, 1]\n",
        "\n",
        "\n",
        "A_train, A_test, A_y_train, A_y_test = train_test_split(X, Y, test_size= 0.2, random_state=1, stratify=Y)\n",
        "\n",
        "# configure the cross-validation procedure\n",
        "cv_outer = KFold(n_splits=10, shuffle=True, random_state=1)\n",
        "# enumerate splits\n",
        "outer_results = list()\n",
        "inner_results = list()\n",
        "#kf = KFold(n_splits = 5)\n",
        "#X_train = X.loc[train_ix]\n",
        "\n",
        "def y_class(y_hat, threshold):\n",
        "    return [1 if i > threshold else 0 for i in y_hat]\n",
        "\n",
        "def accuracy(true_values, predictions):\n",
        "    return np.mean(true_values == predictions)\n",
        " \n",
        "import warnings\n",
        "warnings.filterwarnings(\"ignore\")\n",
        "best_model_params = []\n",
        "best_model_scores = []\n",
        "save_best_model = []\n",
        "li = [i for i in np.arange(0,1,0.1)]\n",
        "\n",
        "for train_ix, val_ix in cv_outer.split(A_train):\n",
        "\t# split data\n",
        "\tX_train_outer = A_train.iloc[train_ix]   \n",
        "\tX_val_outer = A_train.iloc[val_ix]\n",
        "\ty_train_outer = A_y_train.iloc[train_ix]\n",
        "\ty_val_outer = A_y_train.iloc[val_ix]\n",
        "\t# configure the cross-validation procedure\n",
        "\tcv_inner = KFold(n_splits=10, shuffle=True, random_state=1)\n",
        "\t# define the model\n",
        "\tmodel = LogisticRegression()\n",
        "\t# define search space\n",
        "\t\n",
        "\t# define search\n",
        "\tbest = 0.0\n",
        "\tbest_li = -1\n",
        "\tacs = []\n",
        "\tfor thre in li:\n",
        "\t\tfor inner_train_ix, inner_val_ix in cv_inner.split(X_train_outer):\n",
        "\t\n",
        "\t\t\tmodel = LogisticRegression()\n",
        "\t\t\th_X_train_outer = A_train.iloc[inner_train_ix]\n",
        "\t\t\th_X_val_outer = A_train.iloc[inner_val_ix]\n",
        "\n",
        "\t\t\th_y_train_outer = A_y_train.iloc[inner_train_ix]\n",
        "\t\t\th_y_val_outer = A_y_train.iloc[inner_val_ix]\n",
        "\n",
        "\n",
        "\t\t\tmodel.fit(h_X_train_outer, h_y_train_outer)\n",
        "\t\t\ty_pred_proba = model.predict_proba(h_X_val_outer)[::,1]\n",
        "\n",
        "\t\t\tpredictions = y_class(y_pred_proba, thre)\n",
        "\t\t\ta = (accuracy(predictions, h_y_val_outer))\n",
        "\t\t\tif a > best:\n",
        "\t\t\t\tbest = a\n",
        "\t\t\t\tbest_li = thre\n",
        "\t\t\t\tprint(\"Accu for Threshold :{t} is {A}\".format(t=thre, A=a))\n",
        "\n",
        "\t\t\t# score = model.score(h_X_val_outer, predictions)\n",
        "\t\t\t# print(score)\n",
        "\n",
        "print(best_li)\n",
        "\n",
        " "
      ]
    }
  ],
  "metadata": {
    "colab": {
      "collapsed_sections": [],
      "provenance": []
    },
    "kernelspec": {
      "display_name": "Python 3.8.10 64-bit",
      "language": "python",
      "name": "python3"
    },
    "language_info": {
      "codemirror_mode": {
        "name": "ipython",
        "version": 3
      },
      "file_extension": ".py",
      "mimetype": "text/x-python",
      "name": "python",
      "nbconvert_exporter": "python",
      "pygments_lexer": "ipython3",
      "version": "3.8.10"
    },
    "vscode": {
      "interpreter": {
        "hash": "31f2aee4e71d21fbe5cf8b01ff0e069b9275f58929596ceb00d14d90e3e16cd6"
      }
    }
  },
  "nbformat": 4,
  "nbformat_minor": 0
}
